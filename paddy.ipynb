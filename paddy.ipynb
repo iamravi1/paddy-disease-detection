{
 "cells": [
  {
   "cell_type": "code",
   "execution_count": 1,
   "id": "e90f3444",
   "metadata": {
    "_cell_guid": "b1076dfc-b9ad-4769-8c92-a6c4dae69d19",
    "_uuid": "8f2839f25d086af736a60e9eeb907d3b93b6e0e5",
    "execution": {
     "iopub.execute_input": "2022-07-21T06:44:53.087995Z",
     "iopub.status.busy": "2022-07-21T06:44:53.086897Z",
     "iopub.status.idle": "2022-07-21T06:44:59.807235Z",
     "shell.execute_reply": "2022-07-21T06:44:59.805954Z"
    },
    "papermill": {
     "duration": 6.737108,
     "end_time": "2022-07-21T06:44:59.810276",
     "exception": false,
     "start_time": "2022-07-21T06:44:53.073168",
     "status": "completed"
    },
    "tags": []
   },
   "outputs": [],
   "source": [
    "import numpy as np\n",
    "import pandas as pd\n",
    "import tensorflow as tf\n",
    "from tensorflow.keras import models,layers"
   ]
  },
  {
   "cell_type": "code",
   "execution_count": 2,
   "id": "780cdf23",
   "metadata": {
    "execution": {
     "iopub.execute_input": "2022-07-21T06:44:59.821904Z",
     "iopub.status.busy": "2022-07-21T06:44:59.821277Z",
     "iopub.status.idle": "2022-07-21T06:44:59.858556Z",
     "shell.execute_reply": "2022-07-21T06:44:59.857256Z"
    },
    "papermill": {
     "duration": 0.046151,
     "end_time": "2022-07-21T06:44:59.861516",
     "exception": false,
     "start_time": "2022-07-21T06:44:59.815365",
     "status": "completed"
    },
    "tags": []
   },
   "outputs": [],
   "source": [
    "train = pd.read_csv('../input/paddy-disease-classification/train.csv')\n",
    "sub = pd.read_csv('../input/paddy-disease-classification/sample_submission.csv')"
   ]
  },
  {
   "cell_type": "code",
   "execution_count": 3,
   "id": "c8b5e3dd",
   "metadata": {
    "execution": {
     "iopub.execute_input": "2022-07-21T06:44:59.872736Z",
     "iopub.status.busy": "2022-07-21T06:44:59.871574Z",
     "iopub.status.idle": "2022-07-21T06:44:59.894324Z",
     "shell.execute_reply": "2022-07-21T06:44:59.893027Z"
    },
    "papermill": {
     "duration": 0.030893,
     "end_time": "2022-07-21T06:44:59.897004",
     "exception": false,
     "start_time": "2022-07-21T06:44:59.866111",
     "status": "completed"
    },
    "tags": []
   },
   "outputs": [
    {
     "data": {
      "text/plain": [
       "['bacterial_leaf_blight',\n",
       " 'bacterial_leaf_streak',\n",
       " 'bacterial_panicle_blight',\n",
       " 'blast',\n",
       " 'brown_spot',\n",
       " 'dead_heart',\n",
       " 'downy_mildew',\n",
       " 'hispa',\n",
       " 'normal',\n",
       " 'tungro']"
      ]
     },
     "execution_count": 3,
     "metadata": {},
     "output_type": "execute_result"
    }
   ],
   "source": [
    "diseases_types = sorted(list(set(train['label'])))\n",
    "diseases_types"
   ]
  },
  {
   "cell_type": "code",
   "execution_count": 4,
   "id": "8b3bfa85",
   "metadata": {
    "execution": {
     "iopub.execute_input": "2022-07-21T06:44:59.908835Z",
     "iopub.status.busy": "2022-07-21T06:44:59.907617Z",
     "iopub.status.idle": "2022-07-21T06:45:06.940166Z",
     "shell.execute_reply": "2022-07-21T06:45:06.938525Z"
    },
    "papermill": {
     "duration": 7.040885,
     "end_time": "2022-07-21T06:45:06.942670",
     "exception": false,
     "start_time": "2022-07-21T06:44:59.901785",
     "status": "completed"
    },
    "tags": []
   },
   "outputs": [
    {
     "name": "stdout",
     "output_type": "stream",
     "text": [
      "Found 10407 files belonging to 10 classes.\n",
      "Using 8326 files for training.\n"
     ]
    },
    {
     "name": "stderr",
     "output_type": "stream",
     "text": [
      "2022-07-21 06:45:02.266246: I tensorflow/stream_executor/cuda/cuda_gpu_executor.cc:937] successful NUMA node read from SysFS had negative value (-1), but there must be at least one NUMA node, so returning NUMA node zero\n",
      "2022-07-21 06:45:02.453194: I tensorflow/stream_executor/cuda/cuda_gpu_executor.cc:937] successful NUMA node read from SysFS had negative value (-1), but there must be at least one NUMA node, so returning NUMA node zero\n",
      "2022-07-21 06:45:02.454405: I tensorflow/stream_executor/cuda/cuda_gpu_executor.cc:937] successful NUMA node read from SysFS had negative value (-1), but there must be at least one NUMA node, so returning NUMA node zero\n",
      "2022-07-21 06:45:02.464735: I tensorflow/core/platform/cpu_feature_guard.cc:142] This TensorFlow binary is optimized with oneAPI Deep Neural Network Library (oneDNN) to use the following CPU instructions in performance-critical operations:  AVX2 FMA\n",
      "To enable them in other operations, rebuild TensorFlow with the appropriate compiler flags.\n",
      "2022-07-21 06:45:02.465117: I tensorflow/stream_executor/cuda/cuda_gpu_executor.cc:937] successful NUMA node read from SysFS had negative value (-1), but there must be at least one NUMA node, so returning NUMA node zero\n",
      "2022-07-21 06:45:02.466209: I tensorflow/stream_executor/cuda/cuda_gpu_executor.cc:937] successful NUMA node read from SysFS had negative value (-1), but there must be at least one NUMA node, so returning NUMA node zero\n",
      "2022-07-21 06:45:02.467492: I tensorflow/stream_executor/cuda/cuda_gpu_executor.cc:937] successful NUMA node read from SysFS had negative value (-1), but there must be at least one NUMA node, so returning NUMA node zero\n",
      "2022-07-21 06:45:05.209015: I tensorflow/stream_executor/cuda/cuda_gpu_executor.cc:937] successful NUMA node read from SysFS had negative value (-1), but there must be at least one NUMA node, so returning NUMA node zero\n",
      "2022-07-21 06:45:05.210262: I tensorflow/stream_executor/cuda/cuda_gpu_executor.cc:937] successful NUMA node read from SysFS had negative value (-1), but there must be at least one NUMA node, so returning NUMA node zero\n",
      "2022-07-21 06:45:05.211243: I tensorflow/stream_executor/cuda/cuda_gpu_executor.cc:937] successful NUMA node read from SysFS had negative value (-1), but there must be at least one NUMA node, so returning NUMA node zero\n",
      "2022-07-21 06:45:05.212231: I tensorflow/core/common_runtime/gpu/gpu_device.cc:1510] Created device /job:localhost/replica:0/task:0/device:GPU:0 with 15403 MB memory:  -> device: 0, name: Tesla P100-PCIE-16GB, pci bus id: 0000:00:04.0, compute capability: 6.0\n"
     ]
    },
    {
     "name": "stdout",
     "output_type": "stream",
     "text": [
      "Found 10407 files belonging to 10 classes.\n",
      "Using 2081 files for validation.\n"
     ]
    }
   ],
   "source": [
    "train_data= tf.keras.preprocessing.image_dataset_from_directory(\"/kaggle/input/paddy-disease-classification/train_images/\",\n",
    "                                                        labels='inferred',\n",
    "                                                        label_mode='categorical',\n",
    "                                                        class_names=diseases_types,\n",
    "                                                        color_mode='rgb',\n",
    "                                                        image_size=(680,480),\n",
    "                                                        shuffle=True,\n",
    "                                                        validation_split=0.2,\n",
    "                                                        subset='training',\n",
    "                                                        seed=42)\n",
    "\n",
    "val_data= tf.keras.preprocessing.image_dataset_from_directory(\"/kaggle/input/paddy-disease-classification/train_images/\",\n",
    "                                                        labels='inferred',\n",
    "                                                        label_mode='categorical',\n",
    "                                                        class_names=diseases_types,   \n",
    "                                                        color_mode='rgb',\n",
    "                                                        image_size=(680,480),\n",
    "                                                        shuffle=True,\n",
    "                                                        validation_split=0.2,\n",
    "                                                        subset='validation',\n",
    "                                                        seed=42)"
   ]
  },
  {
   "cell_type": "code",
   "execution_count": 5,
   "id": "2e20a3d9",
   "metadata": {
    "execution": {
     "iopub.execute_input": "2022-07-21T06:45:06.954754Z",
     "iopub.status.busy": "2022-07-21T06:45:06.954446Z",
     "iopub.status.idle": "2022-07-21T06:45:06.963590Z",
     "shell.execute_reply": "2022-07-21T06:45:06.962113Z"
    },
    "papermill": {
     "duration": 0.018258,
     "end_time": "2022-07-21T06:45:06.966357",
     "exception": false,
     "start_time": "2022-07-21T06:45:06.948099",
     "status": "completed"
    },
    "tags": []
   },
   "outputs": [
    {
     "data": {
      "text/plain": [
       "<BatchDataset shapes: ((None, 680, 480, 3), (None, 10)), types: (tf.float32, tf.float32)>"
      ]
     },
     "execution_count": 5,
     "metadata": {},
     "output_type": "execute_result"
    }
   ],
   "source": [
    "train_data"
   ]
  },
  {
   "cell_type": "code",
   "execution_count": 6,
   "id": "1149141d",
   "metadata": {
    "execution": {
     "iopub.execute_input": "2022-07-21T06:45:06.977846Z",
     "iopub.status.busy": "2022-07-21T06:45:06.977532Z",
     "iopub.status.idle": "2022-07-21T06:45:10.538764Z",
     "shell.execute_reply": "2022-07-21T06:45:10.537454Z"
    },
    "papermill": {
     "duration": 3.570523,
     "end_time": "2022-07-21T06:45:10.541942",
     "exception": false,
     "start_time": "2022-07-21T06:45:06.971419",
     "status": "completed"
    },
    "tags": []
   },
   "outputs": [
    {
     "name": "stdout",
     "output_type": "stream",
     "text": [
      "Downloading data from https://storage.googleapis.com/tensorflow/keras-applications/resnet/resnet50_weights_tf_dim_ordering_tf_kernels_notop.h5\n",
      "94773248/94765736 [==============================] - 1s 0us/step\n",
      "94781440/94765736 [==============================] - 1s 0us/step\n"
     ]
    }
   ],
   "source": [
    "resnet_model=models.Sequential()\n",
    "\n",
    "pretrained_model=tf.keras.applications.ResNet50(include_top=False,input_shape=(680,480,3),pooling='avg',classes=10,weights='imagenet')\n",
    "    \n",
    "for layer in pretrained_model.layers:\n",
    "    layer.trainable=False\n",
    "    \n",
    "    \n",
    "resnet_model.add(pretrained_model)\n",
    "resnet_model.add(layers.Flatten())\n",
    "resnet_model.add(layers.Dense(512,activation='relu'))\n",
    "resnet_model.add(layers.Dense(99,activation='relu'))\n",
    "resnet_model.add(layers.Dense(10,activation='softmax'))"
   ]
  },
  {
   "cell_type": "code",
   "execution_count": 7,
   "id": "3ee7dcf9",
   "metadata": {
    "execution": {
     "iopub.execute_input": "2022-07-21T06:45:10.557961Z",
     "iopub.status.busy": "2022-07-21T06:45:10.556621Z",
     "iopub.status.idle": "2022-07-21T06:45:10.565247Z",
     "shell.execute_reply": "2022-07-21T06:45:10.563943Z"
    },
    "papermill": {
     "duration": 0.018666,
     "end_time": "2022-07-21T06:45:10.567716",
     "exception": false,
     "start_time": "2022-07-21T06:45:10.549050",
     "status": "completed"
    },
    "tags": []
   },
   "outputs": [
    {
     "data": {
      "text/plain": [
       "<BatchDataset shapes: ((None, 680, 480, 3), (None, 10)), types: (tf.float32, tf.float32)>"
      ]
     },
     "execution_count": 7,
     "metadata": {},
     "output_type": "execute_result"
    }
   ],
   "source": [
    "val_data"
   ]
  },
  {
   "cell_type": "code",
   "execution_count": 8,
   "id": "01d92ab4",
   "metadata": {
    "execution": {
     "iopub.execute_input": "2022-07-21T06:45:10.583190Z",
     "iopub.status.busy": "2022-07-21T06:45:10.582336Z",
     "iopub.status.idle": "2022-07-21T08:28:12.993706Z",
     "shell.execute_reply": "2022-07-21T08:28:12.992337Z"
    },
    "papermill": {
     "duration": 6183.027674,
     "end_time": "2022-07-21T08:28:13.602143",
     "exception": false,
     "start_time": "2022-07-21T06:45:10.574469",
     "status": "completed"
    },
    "tags": []
   },
   "outputs": [
    {
     "name": "stdout",
     "output_type": "stream",
     "text": [
      "Epoch 1/35\n"
     ]
    },
    {
     "name": "stderr",
     "output_type": "stream",
     "text": [
      "2022-07-21 06:45:13.691383: I tensorflow/compiler/mlir/mlir_graph_optimization_pass.cc:185] None of the MLIR Optimization Passes are enabled (registered 2)\n",
      "2022-07-21 06:45:17.910355: I tensorflow/stream_executor/cuda/cuda_dnn.cc:369] Loaded cuDNN version 8005\n"
     ]
    },
    {
     "name": "stdout",
     "output_type": "stream",
     "text": [
      "261/261 [==============================] - 159s 559ms/step - loss: 1.5319 - accuracy: 0.4843 - val_loss: 1.2246 - val_accuracy: 0.6036\n",
      "Epoch 2/35\n",
      "261/261 [==============================] - 148s 559ms/step - loss: 1.0462 - accuracy: 0.6584 - val_loss: 0.9463 - val_accuracy: 0.6953\n",
      "Epoch 3/35\n",
      "261/261 [==============================] - 148s 562ms/step - loss: 0.8013 - accuracy: 0.7395 - val_loss: 0.7982 - val_accuracy: 0.7333\n",
      "Epoch 4/35\n",
      "261/261 [==============================] - 149s 564ms/step - loss: 0.6241 - accuracy: 0.8007 - val_loss: 0.6356 - val_accuracy: 0.7818\n",
      "Epoch 5/35\n",
      "261/261 [==============================] - 147s 557ms/step - loss: 0.5151 - accuracy: 0.8303 - val_loss: 0.5805 - val_accuracy: 0.8102\n",
      "Epoch 6/35\n",
      "261/261 [==============================] - 147s 556ms/step - loss: 0.4381 - accuracy: 0.8543 - val_loss: 0.4790 - val_accuracy: 0.8361\n",
      "Epoch 7/35\n",
      "261/261 [==============================] - 149s 562ms/step - loss: 0.3717 - accuracy: 0.8797 - val_loss: 0.4338 - val_accuracy: 0.8573\n",
      "Epoch 8/35\n",
      "261/261 [==============================] - 148s 561ms/step - loss: 0.3073 - accuracy: 0.8982 - val_loss: 0.3670 - val_accuracy: 0.8712\n",
      "Epoch 9/35\n",
      "261/261 [==============================] - 147s 558ms/step - loss: 0.2620 - accuracy: 0.9116 - val_loss: 0.6488 - val_accuracy: 0.7881\n",
      "Epoch 10/35\n",
      "261/261 [==============================] - 149s 562ms/step - loss: 0.2646 - accuracy: 0.9126 - val_loss: 0.4564 - val_accuracy: 0.8520\n",
      "Epoch 11/35\n",
      "261/261 [==============================] - 149s 564ms/step - loss: 0.1982 - accuracy: 0.9353 - val_loss: 0.3434 - val_accuracy: 0.8866\n",
      "Epoch 12/35\n",
      "261/261 [==============================] - 148s 561ms/step - loss: 0.1728 - accuracy: 0.9434 - val_loss: 0.4500 - val_accuracy: 0.8549\n",
      "Epoch 13/35\n",
      "261/261 [==============================] - 149s 563ms/step - loss: 0.1609 - accuracy: 0.9476 - val_loss: 0.3694 - val_accuracy: 0.8909\n",
      "Epoch 14/35\n",
      "261/261 [==============================] - 149s 564ms/step - loss: 0.1416 - accuracy: 0.9532 - val_loss: 0.2976 - val_accuracy: 0.9082\n",
      "Epoch 15/35\n",
      "261/261 [==============================] - 149s 563ms/step - loss: 0.1376 - accuracy: 0.9554 - val_loss: 0.4524 - val_accuracy: 0.8640\n",
      "Epoch 16/35\n",
      "261/261 [==============================] - 151s 571ms/step - loss: 0.0975 - accuracy: 0.9693 - val_loss: 0.4738 - val_accuracy: 0.8707\n",
      "Epoch 17/35\n",
      "261/261 [==============================] - 149s 565ms/step - loss: 0.1095 - accuracy: 0.9647 - val_loss: 0.2961 - val_accuracy: 0.9077\n",
      "Epoch 18/35\n",
      "261/261 [==============================] - 150s 566ms/step - loss: 0.1290 - accuracy: 0.9545 - val_loss: 0.3008 - val_accuracy: 0.9111\n",
      "Epoch 19/35\n",
      "261/261 [==============================] - 149s 563ms/step - loss: 0.0748 - accuracy: 0.9769 - val_loss: 0.3369 - val_accuracy: 0.9005\n",
      "Epoch 20/35\n",
      "261/261 [==============================] - 148s 560ms/step - loss: 0.0978 - accuracy: 0.9669 - val_loss: 0.3132 - val_accuracy: 0.9101\n",
      "Epoch 21/35\n",
      "261/261 [==============================] - 149s 563ms/step - loss: 0.1014 - accuracy: 0.9665 - val_loss: 0.2973 - val_accuracy: 0.9202\n",
      "Epoch 22/35\n",
      "261/261 [==============================] - 150s 567ms/step - loss: 0.0784 - accuracy: 0.9736 - val_loss: 0.3924 - val_accuracy: 0.8976\n",
      "Epoch 23/35\n",
      "261/261 [==============================] - 150s 566ms/step - loss: 0.1032 - accuracy: 0.9646 - val_loss: 0.2847 - val_accuracy: 0.9236\n",
      "Epoch 24/35\n",
      "261/261 [==============================] - 149s 565ms/step - loss: 0.0960 - accuracy: 0.9652 - val_loss: 0.3788 - val_accuracy: 0.8842\n",
      "Epoch 25/35\n",
      "261/261 [==============================] - 149s 565ms/step - loss: 0.0788 - accuracy: 0.9742 - val_loss: 0.4038 - val_accuracy: 0.8827\n",
      "Epoch 26/35\n",
      "261/261 [==============================] - 149s 564ms/step - loss: 0.0916 - accuracy: 0.9701 - val_loss: 0.4784 - val_accuracy: 0.8755\n",
      "Epoch 27/35\n",
      "261/261 [==============================] - 150s 566ms/step - loss: 0.0621 - accuracy: 0.9807 - val_loss: 0.3952 - val_accuracy: 0.9015\n",
      "Epoch 28/35\n",
      "261/261 [==============================] - 150s 567ms/step - loss: 0.0859 - accuracy: 0.9697 - val_loss: 0.2854 - val_accuracy: 0.9236\n",
      "Epoch 29/35\n",
      "261/261 [==============================] - 149s 564ms/step - loss: 0.0936 - accuracy: 0.9666 - val_loss: 0.2945 - val_accuracy: 0.9231\n",
      "Epoch 30/35\n",
      "261/261 [==============================] - 149s 565ms/step - loss: 0.0643 - accuracy: 0.9789 - val_loss: 0.2620 - val_accuracy: 0.9395\n",
      "Epoch 31/35\n",
      "261/261 [==============================] - 150s 567ms/step - loss: 0.0415 - accuracy: 0.9859 - val_loss: 0.2800 - val_accuracy: 0.9246\n",
      "Epoch 32/35\n",
      "261/261 [==============================] - 149s 564ms/step - loss: 0.0506 - accuracy: 0.9833 - val_loss: 0.3022 - val_accuracy: 0.9193\n",
      "Epoch 33/35\n",
      "261/261 [==============================] - 149s 565ms/step - loss: 0.0679 - accuracy: 0.9763 - val_loss: 0.4737 - val_accuracy: 0.8880\n",
      "Epoch 34/35\n",
      "261/261 [==============================] - 150s 568ms/step - loss: 0.0871 - accuracy: 0.9678 - val_loss: 0.7473 - val_accuracy: 0.8059\n",
      "Epoch 35/35\n",
      "261/261 [==============================] - 151s 566ms/step - loss: 0.0705 - accuracy: 0.9743 - val_loss: 0.3031 - val_accuracy: 0.9217\n"
     ]
    },
    {
     "data": {
      "text/plain": [
       "<keras.callbacks.History at 0x7f277df01dd0>"
      ]
     },
     "execution_count": 8,
     "metadata": {},
     "output_type": "execute_result"
    }
   ],
   "source": [
    "resnet_model.compile(optimizer='adam',loss='categorical_crossentropy',metrics=['accuracy'])\n",
    "resnet_model.fit(train_data,validation_data=val_data,epochs=35)"
   ]
  },
  {
   "cell_type": "code",
   "execution_count": 9,
   "id": "b79c569d",
   "metadata": {
    "execution": {
     "iopub.execute_input": "2022-07-21T08:28:15.010218Z",
     "iopub.status.busy": "2022-07-21T08:28:15.009661Z",
     "iopub.status.idle": "2022-07-21T08:28:17.172171Z",
     "shell.execute_reply": "2022-07-21T08:28:17.170642Z"
    },
    "papermill": {
     "duration": 2.900967,
     "end_time": "2022-07-21T08:28:17.175693",
     "exception": false,
     "start_time": "2022-07-21T08:28:14.274726",
     "status": "completed"
    },
    "tags": []
   },
   "outputs": [
    {
     "name": "stdout",
     "output_type": "stream",
     "text": [
      "Found 3469 files belonging to 1 classes.\n"
     ]
    }
   ],
   "source": [
    "test_data=tf.keras.utils.image_dataset_from_directory(\"/kaggle/input/paddy-disease-classification/test_images/\",\n",
    "                                                        labels=None,\n",
    "                                                        label_mode=None,\n",
    "                                                        color_mode='rgb',\n",
    "                                                        image_size=(680,480),\n",
    "                                                        shuffle=False)"
   ]
  },
  {
   "cell_type": "code",
   "execution_count": 10,
   "id": "68d8afe2",
   "metadata": {
    "execution": {
     "iopub.execute_input": "2022-07-21T08:28:18.727241Z",
     "iopub.status.busy": "2022-07-21T08:28:18.726242Z",
     "iopub.status.idle": "2022-07-21T08:28:54.705263Z",
     "shell.execute_reply": "2022-07-21T08:28:54.703928Z"
    },
    "papermill": {
     "duration": 37.40428,
     "end_time": "2022-07-21T08:28:55.454604",
     "exception": false,
     "start_time": "2022-07-21T08:28:18.050324",
     "status": "completed"
    },
    "tags": []
   },
   "outputs": [
    {
     "data": {
      "text/plain": [
       "<tf.Tensor: shape=(3469,), dtype=int64, numpy=array([7, 8, 3, ..., 8, 1, 5])>"
      ]
     },
     "execution_count": 10,
     "metadata": {},
     "output_type": "execute_result"
    }
   ],
   "source": [
    "predict=tf.argmax(resnet_model.predict(test_data),axis=-1)\n",
    "predict"
   ]
  },
  {
   "cell_type": "code",
   "execution_count": 11,
   "id": "573005cc",
   "metadata": {
    "execution": {
     "iopub.execute_input": "2022-07-21T08:28:56.818389Z",
     "iopub.status.busy": "2022-07-21T08:28:56.818010Z",
     "iopub.status.idle": "2022-07-21T08:28:58.469591Z",
     "shell.execute_reply": "2022-07-21T08:28:58.468285Z"
    },
    "papermill": {
     "duration": 2.336069,
     "end_time": "2022-07-21T08:28:58.472774",
     "exception": false,
     "start_time": "2022-07-21T08:28:56.136705",
     "status": "completed"
    },
    "tags": []
   },
   "outputs": [],
   "source": [
    "predictions=[]\n",
    "for i in predict:\n",
    "    predictions.append(diseases_types[i])"
   ]
  },
  {
   "cell_type": "code",
   "execution_count": 12,
   "id": "a59053d8",
   "metadata": {
    "execution": {
     "iopub.execute_input": "2022-07-21T08:28:59.877402Z",
     "iopub.status.busy": "2022-07-21T08:28:59.876703Z",
     "iopub.status.idle": "2022-07-21T08:28:59.900935Z",
     "shell.execute_reply": "2022-07-21T08:28:59.899386Z"
    },
    "papermill": {
     "duration": 0.70479,
     "end_time": "2022-07-21T08:28:59.903962",
     "exception": false,
     "start_time": "2022-07-21T08:28:59.199172",
     "status": "completed"
    },
    "tags": []
   },
   "outputs": [
    {
     "data": {
      "text/html": [
       "<div>\n",
       "<style scoped>\n",
       "    .dataframe tbody tr th:only-of-type {\n",
       "        vertical-align: middle;\n",
       "    }\n",
       "\n",
       "    .dataframe tbody tr th {\n",
       "        vertical-align: top;\n",
       "    }\n",
       "\n",
       "    .dataframe thead th {\n",
       "        text-align: right;\n",
       "    }\n",
       "</style>\n",
       "<table border=\"1\" class=\"dataframe\">\n",
       "  <thead>\n",
       "    <tr style=\"text-align: right;\">\n",
       "      <th></th>\n",
       "      <th>image_id</th>\n",
       "    </tr>\n",
       "  </thead>\n",
       "  <tbody>\n",
       "    <tr>\n",
       "      <th>0</th>\n",
       "      <td>200001.jpg</td>\n",
       "    </tr>\n",
       "    <tr>\n",
       "      <th>1</th>\n",
       "      <td>200002.jpg</td>\n",
       "    </tr>\n",
       "    <tr>\n",
       "      <th>2</th>\n",
       "      <td>200003.jpg</td>\n",
       "    </tr>\n",
       "    <tr>\n",
       "      <th>3</th>\n",
       "      <td>200004.jpg</td>\n",
       "    </tr>\n",
       "    <tr>\n",
       "      <th>4</th>\n",
       "      <td>200005.jpg</td>\n",
       "    </tr>\n",
       "    <tr>\n",
       "      <th>...</th>\n",
       "      <td>...</td>\n",
       "    </tr>\n",
       "    <tr>\n",
       "      <th>3464</th>\n",
       "      <td>203465.jpg</td>\n",
       "    </tr>\n",
       "    <tr>\n",
       "      <th>3465</th>\n",
       "      <td>203466.jpg</td>\n",
       "    </tr>\n",
       "    <tr>\n",
       "      <th>3466</th>\n",
       "      <td>203467.jpg</td>\n",
       "    </tr>\n",
       "    <tr>\n",
       "      <th>3467</th>\n",
       "      <td>203468.jpg</td>\n",
       "    </tr>\n",
       "    <tr>\n",
       "      <th>3468</th>\n",
       "      <td>203469.jpg</td>\n",
       "    </tr>\n",
       "  </tbody>\n",
       "</table>\n",
       "<p>3469 rows × 1 columns</p>\n",
       "</div>"
      ],
      "text/plain": [
       "        image_id\n",
       "0     200001.jpg\n",
       "1     200002.jpg\n",
       "2     200003.jpg\n",
       "3     200004.jpg\n",
       "4     200005.jpg\n",
       "...          ...\n",
       "3464  203465.jpg\n",
       "3465  203466.jpg\n",
       "3466  203467.jpg\n",
       "3467  203468.jpg\n",
       "3468  203469.jpg\n",
       "\n",
       "[3469 rows x 1 columns]"
      ]
     },
     "execution_count": 12,
     "metadata": {},
     "output_type": "execute_result"
    }
   ],
   "source": [
    "sub=sub.drop(columns='label',axis=1)\n",
    "sub"
   ]
  },
  {
   "cell_type": "code",
   "execution_count": 13,
   "id": "15c2da52",
   "metadata": {
    "execution": {
     "iopub.execute_input": "2022-07-21T08:29:01.616224Z",
     "iopub.status.busy": "2022-07-21T08:29:01.615606Z",
     "iopub.status.idle": "2022-07-21T08:29:01.636193Z",
     "shell.execute_reply": "2022-07-21T08:29:01.634967Z"
    },
    "papermill": {
     "duration": 1.047066,
     "end_time": "2022-07-21T08:29:01.641587",
     "exception": false,
     "start_time": "2022-07-21T08:29:00.594521",
     "status": "completed"
    },
    "tags": []
   },
   "outputs": [
    {
     "data": {
      "text/html": [
       "<div>\n",
       "<style scoped>\n",
       "    .dataframe tbody tr th:only-of-type {\n",
       "        vertical-align: middle;\n",
       "    }\n",
       "\n",
       "    .dataframe tbody tr th {\n",
       "        vertical-align: top;\n",
       "    }\n",
       "\n",
       "    .dataframe thead th {\n",
       "        text-align: right;\n",
       "    }\n",
       "</style>\n",
       "<table border=\"1\" class=\"dataframe\">\n",
       "  <thead>\n",
       "    <tr style=\"text-align: right;\">\n",
       "      <th></th>\n",
       "      <th>image_id</th>\n",
       "    </tr>\n",
       "  </thead>\n",
       "  <tbody>\n",
       "    <tr>\n",
       "      <th>0</th>\n",
       "      <td>200001.jpg</td>\n",
       "    </tr>\n",
       "    <tr>\n",
       "      <th>1</th>\n",
       "      <td>200002.jpg</td>\n",
       "    </tr>\n",
       "    <tr>\n",
       "      <th>2</th>\n",
       "      <td>200003.jpg</td>\n",
       "    </tr>\n",
       "    <tr>\n",
       "      <th>3</th>\n",
       "      <td>200004.jpg</td>\n",
       "    </tr>\n",
       "    <tr>\n",
       "      <th>4</th>\n",
       "      <td>200005.jpg</td>\n",
       "    </tr>\n",
       "    <tr>\n",
       "      <th>...</th>\n",
       "      <td>...</td>\n",
       "    </tr>\n",
       "    <tr>\n",
       "      <th>3464</th>\n",
       "      <td>203465.jpg</td>\n",
       "    </tr>\n",
       "    <tr>\n",
       "      <th>3465</th>\n",
       "      <td>203466.jpg</td>\n",
       "    </tr>\n",
       "    <tr>\n",
       "      <th>3466</th>\n",
       "      <td>203467.jpg</td>\n",
       "    </tr>\n",
       "    <tr>\n",
       "      <th>3467</th>\n",
       "      <td>203468.jpg</td>\n",
       "    </tr>\n",
       "    <tr>\n",
       "      <th>3468</th>\n",
       "      <td>203469.jpg</td>\n",
       "    </tr>\n",
       "  </tbody>\n",
       "</table>\n",
       "<p>3469 rows × 1 columns</p>\n",
       "</div>"
      ],
      "text/plain": [
       "        image_id\n",
       "0     200001.jpg\n",
       "1     200002.jpg\n",
       "2     200003.jpg\n",
       "3     200004.jpg\n",
       "4     200005.jpg\n",
       "...          ...\n",
       "3464  203465.jpg\n",
       "3465  203466.jpg\n",
       "3466  203467.jpg\n",
       "3467  203468.jpg\n",
       "3468  203469.jpg\n",
       "\n",
       "[3469 rows x 1 columns]"
      ]
     },
     "execution_count": 13,
     "metadata": {},
     "output_type": "execute_result"
    }
   ],
   "source": [
    "sub"
   ]
  },
  {
   "cell_type": "code",
   "execution_count": 14,
   "id": "9be1b6d3",
   "metadata": {
    "execution": {
     "iopub.execute_input": "2022-07-21T08:29:03.020927Z",
     "iopub.status.busy": "2022-07-21T08:29:03.019784Z",
     "iopub.status.idle": "2022-07-21T08:29:03.027285Z",
     "shell.execute_reply": "2022-07-21T08:29:03.026007Z"
    },
    "papermill": {
     "duration": 0.685509,
     "end_time": "2022-07-21T08:29:03.030088",
     "exception": false,
     "start_time": "2022-07-21T08:29:02.344579",
     "status": "completed"
    },
    "tags": []
   },
   "outputs": [],
   "source": [
    "submission=pd.DataFrame({'image_id':sub['image_id'],'label':predictions})"
   ]
  },
  {
   "cell_type": "code",
   "execution_count": 15,
   "id": "8532dd60",
   "metadata": {
    "execution": {
     "iopub.execute_input": "2022-07-21T08:29:04.428931Z",
     "iopub.status.busy": "2022-07-21T08:29:04.428516Z",
     "iopub.status.idle": "2022-07-21T08:29:04.444932Z",
     "shell.execute_reply": "2022-07-21T08:29:04.443687Z"
    },
    "papermill": {
     "duration": 0.742566,
     "end_time": "2022-07-21T08:29:04.447706",
     "exception": false,
     "start_time": "2022-07-21T08:29:03.705140",
     "status": "completed"
    },
    "tags": []
   },
   "outputs": [],
   "source": [
    "submission.to_csv('paddy_docto2.csv',index=None)"
   ]
  }
 ],
 "metadata": {
  "kernelspec": {
   "display_name": "Python 3 (ipykernel)",
   "language": "python",
   "name": "python3"
  },
  "language_info": {
   "codemirror_mode": {
    "name": "ipython",
    "version": 3
   },
   "file_extension": ".py",
   "mimetype": "text/x-python",
   "name": "python",
   "nbconvert_exporter": "python",
   "pygments_lexer": "ipython3",
   "version": "3.9.12"
  },
  "papermill": {
   "default_parameters": {},
   "duration": 6265.84486,
   "end_time": "2022-07-21T08:29:08.881057",
   "environment_variables": {},
   "exception": null,
   "input_path": "__notebook__.ipynb",
   "output_path": "__notebook__.ipynb",
   "parameters": {},
   "start_time": "2022-07-21T06:44:43.036197",
   "version": "2.3.4"
  }
 },
 "nbformat": 4,
 "nbformat_minor": 5
}
